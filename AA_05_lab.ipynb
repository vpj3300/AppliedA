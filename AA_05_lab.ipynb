{
 "cells": [
  {
   "cell_type": "code",
   "execution_count": 1,
   "metadata": {},
   "outputs": [],
   "source": [
    "import pandas as pd"
   ]
  },
  {
   "cell_type": "code",
   "execution_count": 12,
   "metadata": {},
   "outputs": [],
   "source": [
    "data = pd.read_csv(\"https://raw.githubusercontent.com/Aranaur/aranaur.rbind.io/main/datasets/bootstrap/bootstrap.csv\", sep=';')"
   ]
  },
  {
   "cell_type": "code",
   "execution_count": 18,
   "metadata": {},
   "outputs": [
    {
     "name": "stdout",
     "output_type": "stream",
     "text": [
      "<class 'pandas.core.frame.DataFrame'>\n",
      "RangeIndex: 1000 entries, 0 to 999\n",
      "Data columns (total 2 columns):\n",
      " #   Column             Non-Null Count  Dtype  \n",
      "---  ------             --------------  -----  \n",
      " 0   value              1000 non-null   float64\n",
      " 1   experimentVariant  1000 non-null   object \n",
      "dtypes: float64(1), object(1)\n",
      "memory usage: 15.8+ KB\n"
     ]
    }
   ],
   "source": [
    "data = data[['value', 'experimentVariant']]\n",
    "\n",
    "# Конвертація value до числового формату\n",
    "data['value'] = data['value'].astype(float)\n",
    "\n",
    "data.info()"
   ]
  },
  {
   "cell_type": "code",
   "execution_count": 22,
   "metadata": {},
   "outputs": [],
   "source": [
    "# Розділення на групи\n",
    "control = data[data['experimentVariant'] == 'Control']['value']\n",
    "treatment = data[data['experimentVariant'] == 'Treatment']['value']"
   ]
  },
  {
   "cell_type": "code",
   "execution_count": 23,
   "metadata": {},
   "outputs": [],
   "source": [
    "import numpy as np\n",
    "\n",
    "# Функція для бутстрапу\n",
    "def bootstrap(data, func, n_bootstrap=1000):\n",
    "    return [func(np.random.choice(data, size=len(data), replace=True)) for _ in range(n_bootstrap)]"
   ]
  },
  {
   "cell_type": "code",
   "execution_count": 24,
   "metadata": {},
   "outputs": [],
   "source": [
    "# Бутстрап для середнього (np.mean)\n",
    "control_mean_boot = bootstrap(control, np.mean)\n",
    "treatment_mean_boot = bootstrap(treatment, np.mean)"
   ]
  },
  {
   "cell_type": "code",
   "execution_count": 25,
   "metadata": {},
   "outputs": [],
   "source": [
    "from scipy.stats import mannwhitneyu\n",
    "\n",
    "\n",
    "# P-значення для середнього (Манна-Уітні)\n",
    "stat_mean, p_value_mean = mannwhitneyu(control_mean_boot, treatment_mean_boot)\n",
    "\n",
    "# Бутстрап для медіани (np.median)\n",
    "control_median_boot = bootstrap(control, np.median)\n",
    "treatment_median_boot = bootstrap(treatment, np.median)"
   ]
  },
  {
   "cell_type": "code",
   "execution_count": 26,
   "metadata": {},
   "outputs": [
    {
     "name": "stdout",
     "output_type": "stream",
     "text": [
      "Середнє значення (бутстрап): Control = 10.0256, Treatment = 27.7853\n",
      "P-значення для середнього (Манна-Уітні): 0.0000e+00\n",
      "Медіана (бутстрап): Control = 10.0161, Treatment = 10.0258\n",
      "P-значення для медіани (Манна-Уітні): 1.5884e-02\n"
     ]
    }
   ],
   "source": [
    "# P-значення для медіани (Манна-Уітні)\n",
    "stat_median, p_value_median = mannwhitneyu(control_median_boot, treatment_median_boot)\n",
    "\n",
    "# Виведення результатів\n",
    "print(f\"Середнє значення (бутстрап): Control = {np.mean(control_mean_boot):.4f}, Treatment = {np.mean(treatment_mean_boot):.4f}\")\n",
    "print(f\"P-значення для середнього (Манна-Уітні): {p_value_mean:.4e}\")\n",
    "\n",
    "print(f\"Медіана (бутстрап): Control = {np.median(control_median_boot):.4f}, Treatment = {np.median(treatment_median_boot):.4f}\")\n",
    "print(f\"P-значення для медіани (Манна-Уітні): {p_value_median:.4e}\")"
   ]
  }
 ],
 "metadata": {
  "kernelspec": {
   "display_name": "Python 3",
   "language": "python",
   "name": "python3"
  },
  "language_info": {
   "codemirror_mode": {
    "name": "ipython",
    "version": 3
   },
   "file_extension": ".py",
   "mimetype": "text/x-python",
   "name": "python",
   "nbconvert_exporter": "python",
   "pygments_lexer": "ipython3",
   "version": "3.12.6"
  }
 },
 "nbformat": 4,
 "nbformat_minor": 2
}
