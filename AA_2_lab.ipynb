{
 "cells": [
  {
   "cell_type": "code",
   "execution_count": 1,
   "metadata": {},
   "outputs": [],
   "source": [
    "import pandas as pd"
   ]
  },
  {
   "cell_type": "code",
   "execution_count": 2,
   "metadata": {},
   "outputs": [],
   "source": [
    "data = pd.read_csv(\"https://raw.githubusercontent.com/Aranaur/aranaur.rbind.io/main/datasets/conversion/conversion.csv\")"
   ]
  },
  {
   "cell_type": "code",
   "execution_count": 3,
   "metadata": {},
   "outputs": [
    {
     "name": "stdout",
     "output_type": "stream",
     "text": [
      "Розмірність даних: (1143, 11)\n"
     ]
    }
   ],
   "source": [
    "# Перевірка кількості спостережень і стовпців\n",
    "print(\"Розмірність даних:\", data.shape)"
   ]
  },
  {
   "cell_type": "code",
   "execution_count": 4,
   "metadata": {},
   "outputs": [
    {
     "name": "stdout",
     "output_type": "stream",
     "text": [
      "\n",
      "Типи даних:\n",
      "ad_id                    int64\n",
      "xyz_campaign_id          int64\n",
      "fb_campaign_id           int64\n",
      "age                     object\n",
      "gender                  object\n",
      "interest                 int64\n",
      "Impressions              int64\n",
      "Clicks                   int64\n",
      "Spent                  float64\n",
      "Total_Conversion         int64\n",
      "Approved_Conversion      int64\n",
      "dtype: object\n"
     ]
    }
   ],
   "source": [
    "# Перевірка типів даних\n",
    "print(\"\\nТипи даних:\")\n",
    "print(data.dtypes)"
   ]
  },
  {
   "cell_type": "code",
   "execution_count": 5,
   "metadata": {},
   "outputs": [
    {
     "name": "stdout",
     "output_type": "stream",
     "text": [
      "\n",
      "Пропущені значення:\n",
      "ad_id                  0\n",
      "xyz_campaign_id        0\n",
      "fb_campaign_id         0\n",
      "age                    0\n",
      "gender                 0\n",
      "interest               0\n",
      "Impressions            0\n",
      "Clicks                 0\n",
      "Spent                  0\n",
      "Total_Conversion       0\n",
      "Approved_Conversion    0\n",
      "dtype: int64\n"
     ]
    }
   ],
   "source": [
    "# Перевірка пропущених значень\n",
    "print(\"\\nПропущені значення:\")\n",
    "print(data.isnull().sum())"
   ]
  },
  {
   "cell_type": "code",
   "execution_count": 6,
   "metadata": {},
   "outputs": [
    {
     "name": "stdout",
     "output_type": "stream",
     "text": [
      "\n",
      "Унікальні значення в кожному стовпці:\n",
      "ad_id: 1143 унікальних значень\n",
      "xyz_campaign_id: 3 унікальних значень\n",
      "fb_campaign_id: 691 унікальних значень\n",
      "age: 4 унікальних значень\n",
      "gender: 2 унікальних значень\n",
      "interest: 40 унікальних значень\n",
      "Impressions: 1130 унікальних значень\n",
      "Clicks: 183 унікальних значень\n",
      "Spent: 869 унікальних значень\n",
      "Total_Conversion: 32 унікальних значень\n",
      "Approved_Conversion: 16 унікальних значень\n"
     ]
    }
   ],
   "source": [
    "# Перевірка унікальних значень\n",
    "print(\"\\nУнікальні значення в кожному стовпці:\")\n",
    "\n",
    "for col in data.columns:\n",
    "    print(f\"{col}: {data[col].nunique()} унікальних значень\")"
   ]
  },
  {
   "cell_type": "code",
   "execution_count": 16,
   "metadata": {},
   "outputs": [
    {
     "name": "stdout",
     "output_type": "stream",
     "text": [
      "\n",
      "Кількість унікальних рекламних кампаній (xyz та fb): 694\n"
     ]
    }
   ],
   "source": [
    "# Об'єднання двох стовпців і підрахунок унікальних значень\n",
    "unique_campaigns = pd.concat([data[\"xyz_campaign_id\"], data[\"fb_campaign_id\"]]).nunique()\n",
    "\n",
    "print(\"\\nКількість унікальних рекламних кампаній (xyz та fb):\", unique_campaigns)"
   ]
  },
  {
   "cell_type": "code",
   "execution_count": null,
   "metadata": {},
   "outputs": [],
   "source": []
  }
 ],
 "metadata": {
  "kernelspec": {
   "display_name": "Python 3",
   "language": "python",
   "name": "python3"
  },
  "language_info": {
   "codemirror_mode": {
    "name": "ipython",
    "version": 3
   },
   "file_extension": ".py",
   "mimetype": "text/x-python",
   "name": "python",
   "nbconvert_exporter": "python",
   "pygments_lexer": "ipython3",
   "version": "3.12.6"
  }
 },
 "nbformat": 4,
 "nbformat_minor": 2
}
